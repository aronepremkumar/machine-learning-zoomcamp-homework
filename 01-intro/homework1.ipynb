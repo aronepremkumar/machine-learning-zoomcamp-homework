{
 "cells": [
  {
   "cell_type": "code",
   "execution_count": 3,
   "id": "a46fb74b-70c0-4542-b798-85110c24e672",
   "metadata": {},
   "outputs": [
    {
     "name": "stdout",
     "output_type": "stream",
     "text": [
      "pandas version: 2.3.2\n",
      "numpy version: 2.3.3\n"
     ]
    }
   ],
   "source": [
    "import pandas as pd\n",
    "import numpy as np\n",
    "print(\"pandas version:\", pd.__version__)\n",
    "print(\"numpy version:\", np.__version__)"
   ]
  },
  {
   "cell_type": "code",
   "execution_count": 27,
   "id": "d895cef5-056b-4059-9dad-2d81bf322c28",
   "metadata": {},
   "outputs": [
    {
     "name": "stdout",
     "output_type": "stream",
     "text": [
      "Number of records 9704\n",
      "Fuel types ['Gasoline' 'Diesel']\n",
      "Missing values 4\n",
      "Max fuel efficiency 23.759122836520497\n",
      "Median horse power 149.0\n",
      "Most frequent horse power 152.0\n",
      "New median 152.0\n"
     ]
    }
   ],
   "source": [
    "df = pd.read_csv('car_fuel_efficiency.csv')\n",
    "number_of_records = df.shape[0]\n",
    "print(f\"Number of records {number_of_records}\") \n",
    "fuel_types = df['fuel_type'].unique()\n",
    "print(f\"Fuel types {fuel_types}\")\n",
    "columns_with_missing = df.columns[df.isna().any()].tolist()\n",
    "missing_values = len(columns_with_missing)\n",
    "print(f\"Missing values {missing_values}\")\n",
    "asian_cars = df[df['origin']=='Asia']\n",
    "max_fuel_efficiency = asian_cars['fuel_efficiency_mpg'].max()\n",
    "print(f\"Max fuel efficiency {max_fuel_efficiency}\")\n",
    "median_horse_power = df['horsepower'].median()\n",
    "print(f\"Median horse power {median_horse_power}\")\n",
    "most_frequent_horse_power = df['horsepower'].mode()[0]\n",
    "print(f\"Most frequent horse power {most_frequent_horse_power}\")\n",
    "df['horsepower'] = df['horsepower'].fillna(most_frequent_horse_power)\n",
    "new_median = df['horsepower'].median()\n",
    "print(f\"New median {new_median}\")\n",
    "asia_cars = df[df['origin'] == 'Asia'][['vehicle_weight', 'model_year']]\n",
    "asia_cars_first7 = asia_cars.head(7)\n",
    "X = asia_cars_first7.to_numpy()\n",
    "XTX = np.dot(X.T, X)\n",
    "XTX_inv = np.linalg.inv(XTX)\n",
    "y = np.array([1100, 1300, 800, 900, 1000, 1100, 1200])\n",
    "w = np.dot(np.dot(XTX_inv, X.T), y)\n",
    "w_sum = np.sum(w)\n",
    "print(f\"Sum {w_sum}\")"
   ]
  },
  {
   "cell_type": "code",
   "execution_count": null,
   "id": "76f4be0a-ec00-437c-a045-33a457166393",
   "metadata": {},
   "outputs": [],
   "source": []
  }
 ],
 "metadata": {
  "kernelspec": {
   "display_name": "Python 3 (ipykernel)",
   "language": "python",
   "name": "python3"
  },
  "language_info": {
   "codemirror_mode": {
    "name": "ipython",
    "version": 3
   },
   "file_extension": ".py",
   "mimetype": "text/x-python",
   "name": "python",
   "nbconvert_exporter": "python",
   "pygments_lexer": "ipython3",
   "version": "3.13.7"
  }
 },
 "nbformat": 4,
 "nbformat_minor": 5
}
