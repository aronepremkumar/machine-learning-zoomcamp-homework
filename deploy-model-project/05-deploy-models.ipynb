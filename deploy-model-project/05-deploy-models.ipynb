{
 "cells": [
  {
   "cell_type": "code",
   "execution_count": 5,
   "id": "8b6df49e-3293-48ab-8d74-f3e6cd2c3778",
   "metadata": {},
   "outputs": [],
   "source": [
    "import pickle\n",
    "import numpy"
   ]
  },
  {
   "cell_type": "code",
   "execution_count": 4,
   "id": "d9aa5c09-36cf-42e7-a8c9-7672e27ff4ff",
   "metadata": {},
   "outputs": [
    {
     "name": "stderr",
     "output_type": "stream",
     "text": [
      "/Users/arone/Documents/python/pythonpractice/numpy/numpy/lib/python3.13/site-packages/sklearn/base.py:442: InconsistentVersionWarning: Trying to unpickle estimator DictVectorizer from version 1.6.1 when using version 1.7.2. This might lead to breaking code or invalid results. Use at your own risk. For more info please refer to:\n",
      "https://scikit-learn.org/stable/model_persistence.html#security-maintainability-limitations\n",
      "  warnings.warn(\n",
      "/Users/arone/Documents/python/pythonpractice/numpy/numpy/lib/python3.13/site-packages/sklearn/base.py:442: InconsistentVersionWarning: Trying to unpickle estimator LogisticRegression from version 1.6.1 when using version 1.7.2. This might lead to breaking code or invalid results. Use at your own risk. For more info please refer to:\n",
      "https://scikit-learn.org/stable/model_persistence.html#security-maintainability-limitations\n",
      "  warnings.warn(\n",
      "/Users/arone/Documents/python/pythonpractice/numpy/numpy/lib/python3.13/site-packages/sklearn/base.py:442: InconsistentVersionWarning: Trying to unpickle estimator Pipeline from version 1.6.1 when using version 1.7.2. This might lead to breaking code or invalid results. Use at your own risk. For more info please refer to:\n",
      "https://scikit-learn.org/stable/model_persistence.html#security-maintainability-limitations\n",
      "  warnings.warn(\n"
     ]
    }
   ],
   "source": [
    "# Load the pipeline\n",
    "with open('pipeline_v1.bin', 'rb') as f_in:\n",
    "    pipeline = pickle.load(f_in)"
   ]
  },
  {
   "cell_type": "code",
   "execution_count": 6,
   "id": "a7546dea-a154-40da-93be-ea25fe633eb3",
   "metadata": {},
   "outputs": [],
   "source": [
    "# Extract the DictVectorizer and LogisticRegression\n",
    "dv = pipeline.named_steps['dictvectorizer']\n",
    "model = pipeline.named_steps['logisticregression']"
   ]
  },
  {
   "cell_type": "code",
   "execution_count": 8,
   "id": "f857f1be-f44c-4a87-a6a1-767e981489d1",
   "metadata": {},
   "outputs": [],
   "source": [
    "# Define the record to score\n",
    "record = {\n",
    "    \"lead_source\": \"paid_ads\",\n",
    "    \"number_of_courses_viewed\": 2,\n",
    "    \"annual_income\": 79276.0\n",
    "}"
   ]
  },
  {
   "cell_type": "code",
   "execution_count": 9,
   "id": "2d3bf45a-ee61-4cdd-aaaa-605ee2be39c5",
   "metadata": {},
   "outputs": [
    {
     "name": "stdout",
     "output_type": "stream",
     "text": [
      "Probability of conversion: 0.534\n"
     ]
    }
   ],
   "source": [
    "# Predict the probability of conversion (probability of positive class)\n",
    "probability = pipeline.predict_proba([record])[0, 1]\n",
    "\n",
    "# Print the result\n",
    "print(f\"Probability of conversion: {probability:.3f}\")"
   ]
  },
  {
   "cell_type": "code",
   "execution_count": null,
   "id": "8b34e20b-a315-425c-8773-2f2b8bca89c9",
   "metadata": {},
   "outputs": [],
   "source": []
  }
 ],
 "metadata": {
  "kernelspec": {
   "display_name": "Zoomcamp Env",
   "language": "python",
   "name": "zoomcamp_env"
  },
  "language_info": {
   "codemirror_mode": {
    "name": "ipython",
    "version": 3
   },
   "file_extension": ".py",
   "mimetype": "text/x-python",
   "name": "python",
   "nbconvert_exporter": "python",
   "pygments_lexer": "ipython3",
   "version": "3.13.7"
  }
 },
 "nbformat": 4,
 "nbformat_minor": 5
}
